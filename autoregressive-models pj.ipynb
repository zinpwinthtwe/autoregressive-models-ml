{
 "cells": [
  {
   "cell_type": "markdown",
   "id": "84250813",
   "metadata": {},
   "source": [
    "<font size=\"+3\"><strong>3.3. Autoregressive Models</strong></font>"
   ]
  },
  {
   "cell_type": "code",
   "execution_count": 16,
   "id": "774198d7",
   "metadata": {},
   "outputs": [],
   "source": [
    "import warnings\n",
    "\n",
    "import matplotlib.pyplot as plt\n",
    "import pandas as pd\n",
    "import plotly.express as px\n",
    "\n",
    "from pymongo import MongoClient\n",
    "from sklearn.metrics import mean_absolute_error\n",
    "from statsmodels.graphics.tsaplots import plot_acf, plot_pacf\n",
    "from statsmodels.tsa.ar_model import AutoReg\n",
    "\n",
    "warnings.simplefilter(action=\"ignore\", category=FutureWarning)"
   ]
  },
  {
   "cell_type": "markdown",
   "id": "a24bd42d",
   "metadata": {},
   "source": [
    "# Prepare Data"
   ]
  },
  {
   "cell_type": "markdown",
   "id": "d7c43b73",
   "metadata": {},
   "source": [
    "## Import"
   ]
  },
  {
   "cell_type": "markdown",
   "id": "87e4b979",
   "metadata": {},
   "source": [
    "**Task 3.3.1:** Complete to the create a client to connect to the MongoDB server, assigns the `\"air-quality\"` database to `db`, and assigned the `\"nairobi\"` connection to `nairobi`.\n",
    "\n",
    "- [<span id='technique'>Create a client object for a <span id='tool'>MongoDB</span> instance.](../%40textbook/11-databases-mongodb.ipynb#Servers-and-Clients) \n",
    "- [<span id='technique'>Access a database using <span id='tool'>PyMongo.](../%40textbook/11-databases-mongodb.ipynb#Servers-and-Clients)\n",
    "- [<span id='technique'>Access a collection in a database using <span id='tool'>PyMongo.](../%40textbook/11-databases-mongodb.ipynb#Collections)"
   ]
  },
  {
   "cell_type": "code",
   "execution_count": 17,
   "id": "165d1583",
   "metadata": {},
   "outputs": [],
   "source": [
    "client = MongoClient(host=\"localhost\",port=27017)\n",
    "db = client[\"air-quality\"]\n",
    "nairobi = db[\"nairobi\"]"
   ]
  },
  {
   "cell_type": "markdown",
   "id": "b45f227f",
   "metadata": {},
   "source": [
    "**Task 3.3.2:** Change the `wrangle` function below so that it returns a Series of the resampled data instead of a DataFrame."
   ]
  },
  {
   "cell_type": "code",
   "execution_count": 23,
   "id": "8abd2c69",
   "metadata": {},
   "outputs": [],
   "source": [
    "def wrangle(collection):\n",
    "    results = collection.find(\n",
    "        {\"site\": 29, \"measurement\": \"P2\"},\n",
    "        projection={\"value\": 1, \"timestamp\": 1, \"_id\": 0},\n",
    "    )\n",
    "    \n",
    "    df = pd.DataFrame(results).set_index(\"timestamp\")\n",
    "    df = df.rename(columns={\"value\":\"P2\"})\n",
    "    \n",
    "    #Localize timezone\n",
    "    df.index = df.index.tz_localize(\"UTC\").tz_convert(\"Africa/Nairobi\")\n",
    "    \n",
    "    #Remove outliers\n",
    "    df = df[df[\"P2\"]<500]\n",
    "    \n",
    "    #Resample to \"1H\" windows, ffill missing values\n",
    "    y = df[\"P2\"].resample(\"1H\").mean().fillna(method =\"ffill\")\n",
    "    \n",
    "    \n",
    "    return y"
   ]
  },
  {
   "cell_type": "markdown",
   "id": "858d8661",
   "metadata": {},
   "source": [
    "**Task 3.3.3:** Use your wrangle function to read the data from the `nairobi` collection into the Series `y`."
   ]
  },
  {
   "cell_type": "code",
   "execution_count": 24,
   "id": "ab9dd1f0",
   "metadata": {},
   "outputs": [
    {
     "name": "stdout",
     "output_type": "stream",
     "text": [
      "(2928,)\n"
     ]
    },
    {
     "data": {
      "text/plain": [
       "timestamp\n",
       "2018-09-01 03:00:00+03:00    17.541667\n",
       "2018-09-01 04:00:00+03:00    15.800000\n",
       "2018-09-01 05:00:00+03:00    11.420000\n",
       "2018-09-01 06:00:00+03:00    11.614167\n",
       "2018-09-01 07:00:00+03:00    17.665000\n",
       "Freq: H, Name: P2, dtype: float64"
      ]
     },
     "execution_count": 24,
     "metadata": {},
     "output_type": "execute_result"
    }
   ],
   "source": [
    "y = wrangle(nairobi)\n",
    "print(y.shape)\n",
    "y.head()"
   ]
  },
  {
   "cell_type": "code",
   "execution_count": 21,
   "id": "a702c7cf",
   "metadata": {},
   "outputs": [],
   "source": [
    "#y = ...\n",
    "#y.head()"
   ]
  },
  {
   "cell_type": "code",
   "execution_count": 25,
   "id": "6ac0917e",
   "metadata": {},
   "outputs": [],
   "source": [
    "# Check your work\n",
    "assert isinstance(y, pd.Series), f\"`y` should be a Series, not type {type(y)}\"\n",
    "assert len(y) == 2928, f\"`y` should have 2928 observations, not {len(y)}\"\n",
    "assert y.isnull().sum() == 0"
   ]
  },
  {
   "cell_type": "markdown",
   "id": "dc2d8c67",
   "metadata": {},
   "source": [
    "## Explore"
   ]
  },
  {
   "cell_type": "markdown",
   "id": "41b98e74",
   "metadata": {},
   "source": [
    "**Task 3.3.4:** Create an ACF plot for the data in `y`. Be sure to label the x-axis as `\"Lag [hours]\"` and the y-axis as `\"Correlation Coefficient\"`.\n",
    "\n",
    "- [What's an <span id='term'>ACF plot?](../%40textbook/17-ts-core.ipynb#ACF-Plot)\n",
    "- [<span id='technique'>Create an ACF plot using <span id='tool'>statsmodels](../%40textbook/18-ts-models.ipynb#Creating-an-ACF-Plot)"
   ]
  },
  {
   "cell_type": "code",
   "execution_count": 26,
   "id": "c7a35491",
   "metadata": {},
   "outputs": [
    {
     "data": {
      "text/plain": [
       "0.2443448833734184"
      ]
     },
     "execution_count": 26,
     "metadata": {},
     "output_type": "execute_result"
    }
   ],
   "source": [
    "y.corr(y.shift(12))"
   ]
  },
  {
   "cell_type": "code",
   "execution_count": 27,
   "id": "d8549e4e",
   "metadata": {},
   "outputs": [
    {
     "data": {
      "image/png": "[encoded data removed]",
      "text/plain": [
       "<Figure size 1080x432 with 1 Axes>"
      ]
     },
     "metadata": {
      "needs_background": "light"
     },
     "output_type": "display_data"
    }
   ],
   "source": [
    "fig, ax = plt.subplots(figsize=(15, 6))\n",
    "plot_acf(y, ax=ax)\n",
    "plt.xlabel(\"Lag [hours]\")\n",
    "plt.ylabel(\"Correlation Coefficient\");"
   ]
  },
  {
   "cell_type": "code",
   "execution_count": 28,
   "id": "603b7682",
   "metadata": {},
   "outputs": [
    {
     "data": {
      "text/plain": [
       "0.6506924395791185"
      ]
     },
     "execution_count": 28,
     "metadata": {},
     "output_type": "execute_result"
    }
   ],
   "source": [
    "y.shift(2).corr(y.shift(3))"
   ]
  },
  {
   "cell_type": "code",
   "execution_count": 29,
   "id": "c8e06911",
   "metadata": {},
   "outputs": [
    {
     "data": {
      "image/png": "[encoded data removed]",
      "text/plain": [
       "<Figure size 1080x432 with 1 Axes>"
      ]
     },
     "metadata": {
      "needs_background": "light"
     },
     "output_type": "display_data"
    }
   ],
   "source": [
    "fig, ax = plt.subplots(figsize=(15, 6))\n",
    "plot_pacf(y, ax=ax)\n",
    "plt.xlabel(\"Lag [hours]\")\n",
    "plt.ylabel(\"Correlation Coefficient\");"
   ]
  },
  {
   "cell_type": "markdown",
   "id": "b8d83200",
   "metadata": {},
   "source": [
    "**Task 3.3.6:** Split `y` into training and test sets. The first 95% of the data should be in your training set. The remaining 5% should be in the test set.\n",
    "\n",
    "- [<span id='technique'>Divide data into training and test sets in <span id='tool'>pandas.](../%40textbook/18-ts-models.ipynb#Splitting-the-Data-in-pandas)"
   ]
  },
  {
   "cell_type": "code",
   "execution_count": 34,
   "id": "0ccffa1a",
   "metadata": {},
   "outputs": [],
   "source": [
    "cutoff = int(len(y) * 0.95)\n",
    "\n",
    "y_train = y.iloc[:cutoff]\n",
    "y_test = y.iloc[cutoff:]"
   ]
  },
  {
   "cell_type": "code",
   "execution_count": 36,
   "id": "1e3816ed",
   "metadata": {},
   "outputs": [],
   "source": [
    "cutoff = int(len(y) * 0.95)\n",
    "\n",
    "X_train,y_train = y.iloc[:cutoff], y.iloc[:cutoff]\n",
    "X_test,y_test = y.iloc[cutoff:], y.iloc[cutoff:]"
   ]
  },
  {
   "cell_type": "markdown",
   "id": "f19efa98",
   "metadata": {},
   "source": [
    "# Build Model"
   ]
  },
  {
   "cell_type": "markdown",
   "id": "376d91c7",
   "metadata": {},
   "source": [
    "## Baseline"
   ]
  },
  {
   "cell_type": "markdown",
   "id": "d0e82315",
   "metadata": {},
   "source": [
    "**Task 3.3.7:** Calculate the baseline mean absolute error for your model.\n",
    "\n",
    "- [<span id='technique'>Calculate summary statistics for a DataFrame or Series in <span id='tool'>pandas.](../%40textbook/04-pandas-advanced.ipynb#Calculate-Summary-Statistics-for-a-DataFrame-or-Series)"
   ]
  },
  {
   "cell_type": "code",
   "execution_count": 37,
   "id": "f3df4527",
   "metadata": {},
   "outputs": [
    {
     "name": "stdout",
     "output_type": "stream",
     "text": [
      "Mean P2 Reading: 9.22\n",
      "Baseline MAE: 3.71\n"
     ]
    }
   ],
   "source": [
    "y_train_mean = y_train.mean()\n",
    "y_pred_baseline = [y_train_mean] * len(y_train)\n",
    "mae_baseline = mean_absolute_error(y_train,y_pred_baseline)\n",
    "\n",
    "print(\"Mean P2 Reading:\", round(y_train_mean, 2))\n",
    "print(\"Baseline MAE:\", round(mae_baseline, 2))"
   ]
  },
  {
   "cell_type": "markdown",
   "id": "8059a64b",
   "metadata": {},
   "source": [
    "## Iterate"
   ]
  },
  {
   "cell_type": "markdown",
   "id": "07c31650",
   "metadata": {},
   "source": [
    "**Task 3.3.8:** Instantiate an [`AutoReg`](https://www.statsmodels.org/stable/generated/statsmodels.tsa.ar_model.AutoReg.html) model and fit it to the training data `y_train`. Be sure to set the `lags` argument to `26`.\n",
    "\n",
    "- [What's an <span id='term'>AR model?](../%40textbook/17-ts-core.ipynb#Autoregression-Models)\n",
    "- [<span id='technique'>Instantiate a predictor in <span id='tool'>statsmodels.](../%40textbook/18-ts-models.ipynb#Splitting-the-Data-in-pandas)\n",
    "- [<span id='technique'>Train a model in <span id='tool'>statsmodels.](../%40textbook/18-ts-models.ipynb#Iterating)"
   ]
  },
  {
   "cell_type": "code",
   "execution_count": 38,
   "id": "6c1b96ac",
   "metadata": {},
   "outputs": [],
   "source": [
    "model = AutoReg(y_train,lags=26).fit()"
   ]
  },
  {
   "cell_type": "markdown",
   "id": "e2c9d010",
   "metadata": {},
   "source": [
    "**Task 3.3.9:** Generate a list of training predictions for your model and use them to calculate your training mean absolute error. \n",
    "\n",
    "- [<span id='technique'>Generate in-sample predictions for a model in <span id='tool'>statsmodels.](../%40textbook/18-ts-models.ipynb#Iterating)\n",
    "- [<span id='technique'>Calculate the mean absolute error for a list of predictions in <span id='tool'>scikit-learn.](../%40textbook/15-ml-regression.ipynb#Calculating-the-Mean-Absolute-Error-for-a-List-of-Predictions)"
   ]
  },
  {
   "cell_type": "code",
   "execution_count": 39,
   "id": "c7a29041",
   "metadata": {},
   "outputs": [
    {
     "data": {
      "text/plain": [
       "timestamp\n",
       "2018-09-01 03:00:00+03:00   NaN\n",
       "2018-09-01 04:00:00+03:00   NaN\n",
       "2018-09-01 05:00:00+03:00   NaN\n",
       "2018-09-01 06:00:00+03:00   NaN\n",
       "2018-09-01 07:00:00+03:00   NaN\n",
       "Freq: H, dtype: float64"
      ]
     },
     "execution_count": 39,
     "metadata": {},
     "output_type": "execute_result"
    }
   ],
   "source": [
    "model.predict().head()"
   ]
  },
  {
   "cell_type": "code",
   "execution_count": 40,
   "id": "164ba28b",
   "metadata": {},
   "outputs": [
    {
     "data": {
      "text/plain": [
       "26"
      ]
     },
     "execution_count": 40,
     "metadata": {},
     "output_type": "execute_result"
    }
   ],
   "source": [
    "model.predict().isnull().sum()"
   ]
  },
  {
   "cell_type": "code",
   "execution_count": 41,
   "id": "ac5fd9a9",
   "metadata": {},
   "outputs": [
    {
     "name": "stdout",
     "output_type": "stream",
     "text": [
      "Training MAE: 2.281303238144458\n"
     ]
    }
   ],
   "source": [
    "y_pred = model.predict().dropna()\n",
    "training_mae = mean_absolute_error(y_train.iloc[26:] ,y_pred)\n",
    "print(\"Training MAE:\", training_mae)"
   ]
  },
  {
   "cell_type": "markdown",
   "id": "f864555d",
   "metadata": {},
   "source": [
    "**Task 3.3.10:** Use `y_train` and `y_pred` to calculate the residuals for your model.\n",
    "\n",
    "- [What's a <span id='term'>residual?](../%40textbook/12-ml-core.ipynb#Residuals)\n",
    "- [<span id='technique'>Create new columns derived from existing columns in a DataFrame using <span id='tool'>pandas.](../%40textbook/03-pandas-getting-started.ipynb#Adding-Columns)"
   ]
  },
  {
   "cell_type": "code",
   "execution_count": 42,
   "id": "68714372",
   "metadata": {},
   "outputs": [
    {
     "data": {
      "text/plain": [
       "timestamp\n",
       "2018-12-25 19:00:00+03:00   -0.391842\n",
       "2018-12-25 20:00:00+03:00   -1.573292\n",
       "2018-12-25 21:00:00+03:00   -0.736029\n",
       "2018-12-25 22:00:00+03:00   -2.022408\n",
       "2018-12-25 23:00:00+03:00   -0.062279\n",
       "Freq: H, dtype: float64"
      ]
     },
     "execution_count": 42,
     "metadata": {},
     "output_type": "execute_result"
    }
   ],
   "source": [
    "y_train_resid = model.resid\n",
    "y_train_resid.tail()"
   ]
  },
  {
   "cell_type": "code",
   "execution_count": 43,
   "id": "a6583769",
   "metadata": {},
   "outputs": [
    {
     "ename": "AttributeError",
     "evalue": "'ellipsis' object has no attribute 'tail'",
     "output_type": "error",
     "traceback": [
      "\u001b[1;31m---------------------------------------------------------------------------\u001b[0m",
      "\u001b[1;31mAttributeError\u001b[0m                            Traceback (most recent call last)",
      "\u001b[1;32m~\\AppData\\Local\\Temp/ipykernel_9972/1339937002.py\u001b[0m in \u001b[0;36m<module>\u001b[1;34m\u001b[0m\n\u001b[0;32m      1\u001b[0m \u001b[0my_train_resid\u001b[0m \u001b[1;33m=\u001b[0m \u001b[1;33m...\u001b[0m\u001b[1;33m\u001b[0m\u001b[1;33m\u001b[0m\u001b[0m\n\u001b[1;32m----> 2\u001b[1;33m \u001b[0my_train_resid\u001b[0m\u001b[1;33m.\u001b[0m\u001b[0mtail\u001b[0m\u001b[1;33m(\u001b[0m\u001b[1;33m)\u001b[0m\u001b[1;33m\u001b[0m\u001b[1;33m\u001b[0m\u001b[0m\n\u001b[0m",
      "\u001b[1;31mAttributeError\u001b[0m: 'ellipsis' object has no attribute 'tail'"
     ]
    }
   ],
   "source": [
    "y_train_resid = ...\n",
    "y_train_resid.tail()"
   ]
  },
  {
   "cell_type": "markdown",
   "id": "dc9e8c87",
   "metadata": {},
   "source": [
    "**Task 3.3.11:** Create a plot of `y_train_resid`.\n",
    "\n",
    "- [<span id='technique'>Create a line plot using <span id='tool'>pandas.](../%40textbook/07-visualization-pandas.ipynb#Line-Plots)"
   ]
  },
  {
   "cell_type": "code",
   "execution_count": null,
   "id": "20f490ac",
   "metadata": {},
   "outputs": [],
   "source": [
    "fig, ax = plt.subplots(figsize=(15, 6))\n",
    "y_train_resid.plot(ylabel = \"Residual Values\",ax=ax);"
   ]
  },
  {
   "cell_type": "markdown",
   "id": "c267d9bd",
   "metadata": {},
   "source": [
    "**Task 3.3.12:** Create a histogram of `y_train_resid`.\n",
    "\n",
    "- [<span id='technique'>Create a histogram using <span id='tool'>plotly express.](../%40textbook/06-visualization-matplotlib.ipynb#Histograms)"
   ]
  },
  {
   "cell_type": "code",
   "execution_count": null,
   "id": "a4c53865",
   "metadata": {},
   "outputs": [],
   "source": [
    "y_train_resid.hist()\n",
    "plt.xlabel(\"Residual Values\")\n",
    "plt.ylabel(\"Frequency\")\n",
    "plt.title(\"Distribution of Residuals(AR-26)\")"
   ]
  },
  {
   "cell_type": "markdown",
   "id": "b51efc91",
   "metadata": {},
   "source": [
    "**Task 3.3.13:** Create an ACF plot of `y_train_resid`.\n",
    "\n",
    "- [What's an <span id='term'>ACF plot?](../%40textbook/17-ts-core.ipynb#ACF-Plot)\n",
    "- [<span id='technique'>Create an ACF plot using <span id='tool'>statsmodels](../%40textbook/18-ts-models.ipynb#ACF-Plots)"
   ]
  },
  {
   "cell_type": "code",
   "execution_count": null,
   "id": "d9370852",
   "metadata": {},
   "outputs": [],
   "source": [
    "fig, ax = plt.subplots(figsize=(15, 6))\n",
    "plot_acf(y_train_resid, ax=ax);"
   ]
  },
  {
   "cell_type": "markdown",
   "id": "ad83611c",
   "metadata": {},
   "source": [
    "## Evaluate"
   ]
  },
  {
   "cell_type": "markdown",
   "id": "5f93a6f5",
   "metadata": {},
   "source": [
    "**Task 3.3.14:** Calculate the test mean absolute error for your model.\n",
    "\n",
    "- [<span id='technique'>Generate out-of-sample predictions using model in <span id='tool'>statsmodels.](../%40textbook/18-ts-models.ipynb#Out-of-Sample-Predictions)\n",
    "- [<span id='technique'>Calculate the mean absolute error for a list of predictions in <span id='tool'>scikit-learn.](../%40textbook/15-ml-regression.ipynb#Calculating-the-Mean-Absolute-Error-for-a-List-of-Predictions)"
   ]
  },
  {
   "cell_type": "code",
   "execution_count": null,
   "id": "40878a49",
   "metadata": {},
   "outputs": [],
   "source": [
    "len(y_test)"
   ]
  },
  {
   "cell_type": "code",
   "execution_count": null,
   "id": "2b2737c8",
   "metadata": {},
   "outputs": [],
   "source": [
    "y_pred_test = model.predict(y_test.index.min(),y_test.index.max())\n",
    "test_mae = mean_absolute_error(y_test,y_pred_test)\n",
    "print(\"Test MAE:\", test_mae)"
   ]
  },
  {
   "cell_type": "code",
   "execution_count": null,
   "id": "47dcafe6",
   "metadata": {},
   "outputs": [],
   "source": [
    "y_test.head(10)"
   ]
  },
  {
   "cell_type": "code",
   "execution_count": null,
   "id": "f18b77c5",
   "metadata": {},
   "outputs": [],
   "source": [
    "len(y_pred_test)"
   ]
  },
  {
   "cell_type": "markdown",
   "id": "f91c2690",
   "metadata": {},
   "source": [
    "**Task 3.3.15:** Create a DataFrame `test_predictions` that has two columns: `\"y_test\"` and `\"y_pred\"`. The first should contain the true values for your test set, and the second should contain your model's predictions. Be sure the index of `test_predictions` matches the index of `y_test`.\n",
    "\n",
    "- [<span id='technique'>Create a DataFrame from a dictionary using <span id='tool'>pandas.](../%40textbook/03-pandas-getting-started.ipynb#Working-with-DataFrames)"
   ]
  },
  {
   "cell_type": "code",
   "execution_count": 7,
   "id": "c9f4cf11",
   "metadata": {},
   "outputs": [
    {
     "ename": "NameError",
     "evalue": "name 'y_test' is not defined",
     "output_type": "error",
     "traceback": [
      "\u001b[1;31m---------------------------------------------------------------------------\u001b[0m",
      "\u001b[1;31mNameError\u001b[0m                                 Traceback (most recent call last)",
      "\u001b[1;32m~\\AppData\\Local\\Temp/ipykernel_9972/1676505221.py\u001b[0m in \u001b[0;36m<module>\u001b[1;34m\u001b[0m\n\u001b[0;32m      1\u001b[0m df_pred_test = pd.DataFrame(\n\u001b[1;32m----> 2\u001b[1;33m     \u001b[1;33m{\u001b[0m\u001b[1;34m\"y_test\"\u001b[0m\u001b[1;33m:\u001b[0m \u001b[0my_test\u001b[0m\u001b[1;33m,\u001b[0m \u001b[1;34m\"y_pred\"\u001b[0m\u001b[1;33m:\u001b[0m \u001b[0my_pred_test\u001b[0m\u001b[1;33m}\u001b[0m\u001b[1;33m,\u001b[0m \u001b[0mindex\u001b[0m\u001b[1;33m=\u001b[0m\u001b[0my_test\u001b[0m\u001b[1;33m.\u001b[0m\u001b[0mindex\u001b[0m\u001b[1;33m\u001b[0m\u001b[1;33m\u001b[0m\u001b[0m\n\u001b[0m\u001b[0;32m      3\u001b[0m )\n",
      "\u001b[1;31mNameError\u001b[0m: name 'y_test' is not defined"
     ]
    }
   ],
   "source": [
    "df_pred_test = pd.DataFrame(\n",
    "    {\"y_test\": y_test, \"y_pred\": y_pred_test}, index=y_test.index\n",
    ")"
   ]
  },
  {
   "cell_type": "markdown",
   "id": "25b67b92",
   "metadata": {},
   "source": [
    "**Task 3.3.16:** Create a time series plot for the values in `test_predictions` using plotly express. Be sure that the y-axis is properly labeled as `\"P2\"`.\n",
    "\n",
    "- [<span id='technique'>Create a line plot in <span id='tool'>plotly express.](../%40textbook/07-visualization-pandas.ipynb#Line-Plots)"
   ]
  },
  {
   "cell_type": "code",
   "execution_count": 6,
   "id": "d7b6b31c",
   "metadata": {},
   "outputs": [
    {
     "ename": "NameError",
     "evalue": "name 'df_pred_test' is not defined",
     "output_type": "error",
     "traceback": [
      "\u001b[1;31m---------------------------------------------------------------------------\u001b[0m",
      "\u001b[1;31mNameError\u001b[0m                                 Traceback (most recent call last)",
      "\u001b[1;32m~\\AppData\\Local\\Temp/ipykernel_9972/1570828047.py\u001b[0m in \u001b[0;36m<module>\u001b[1;34m\u001b[0m\n\u001b[1;32m----> 1\u001b[1;33m \u001b[0mfig\u001b[0m \u001b[1;33m=\u001b[0m \u001b[0mpx\u001b[0m\u001b[1;33m.\u001b[0m\u001b[0mline\u001b[0m\u001b[1;33m(\u001b[0m\u001b[0mdf_pred_test\u001b[0m\u001b[1;33m,\u001b[0m \u001b[0mlabels\u001b[0m\u001b[1;33m=\u001b[0m\u001b[1;33m{\u001b[0m\u001b[1;34m\"value\"\u001b[0m\u001b[1;33m:\u001b[0m \u001b[1;34m\"P2\"\u001b[0m\u001b[1;33m}\u001b[0m\u001b[1;33m)\u001b[0m\u001b[1;33m\u001b[0m\u001b[1;33m\u001b[0m\u001b[0m\n\u001b[0m\u001b[0;32m      2\u001b[0m \u001b[0mfig\u001b[0m\u001b[1;33m.\u001b[0m\u001b[0mshow\u001b[0m\u001b[1;33m(\u001b[0m\u001b[1;33m)\u001b[0m\u001b[1;33m\u001b[0m\u001b[1;33m\u001b[0m\u001b[0m\n",
      "\u001b[1;31mNameError\u001b[0m: name 'df_pred_test' is not defined"
     ]
    }
   ],
   "source": [
    "fig = px.line(df_pred_test, labels={\"value\": \"P2\"})\n",
    "fig.show()"
   ]
  },
  {
   "cell_type": "markdown",
   "id": "79abd4a2",
   "metadata": {},
   "source": [
    "**Task 3.3.17:** Perform walk-forward validation for your model for the entire test set `y_test`. Store your model's predictions in the Series `y_pred_wfv`. \n",
    "\n",
    "- [What's <span id='term'>walk-forward validation?](../%40textbook/17-ts-core.ipynb#Walk-Forward-Validation)\n",
    "- [<span id='technique'>Perform walk-forward validation for time series model.](../%40textbook/18-ts-models.ipynb#Walk-forward-Validation)"
   ]
  },
  {
   "cell_type": "code",
   "execution_count": null,
   "id": "e1ffba3e",
   "metadata": {},
   "outputs": [],
   "source": [
    "%%capture\n",
    "\n",
    "y_pred_wfv = pd.Series()\n",
    "history = y_train.copy()\n",
    "for i in range(len(y_test)):\n",
    "    model = AutoReg(history,lags=26).fit()\n",
    "    next_pred = model.forecast()\n",
    "    y_pred_wfv = y_pred_wfv.append(next_pred)\n",
    "    history = history.append(y_test[next_pred.index])\n",
    "    "
   ]
  },
  {
   "cell_type": "code",
   "execution_count": null,
   "id": "3b13ceef",
   "metadata": {},
   "outputs": [],
   "source": [
    "history.tail(1)"
   ]
  },
  {
   "cell_type": "code",
   "execution_count": null,
   "id": "76730b2e",
   "metadata": {},
   "outputs": [],
   "source": [
    "y_test.head(1)"
   ]
  },
  {
   "cell_type": "code",
   "execution_count": null,
   "id": "5e0a44a2",
   "metadata": {},
   "outputs": [],
   "source": [
    "model = AutoReg(history,lags=26).fit()"
   ]
  },
  {
   "cell_type": "code",
   "execution_count": null,
   "id": "6388af0d",
   "metadata": {
    "scrolled": true
   },
   "outputs": [],
   "source": [
    "model.forecast().index"
   ]
  },
  {
   "cell_type": "markdown",
   "id": "ce6df791",
   "metadata": {},
   "source": [
    "**Task 3.3.18:** Calculate the test mean absolute error for your model.\n",
    "\n",
    "- [<span id='technique'>Calculate the mean absolute error for a list of predictions in <span id='tool'>scikit-learn.](../%40textbook/15-ml-regression.ipynb#Calculating-the-Mean-Absolute-Error-for-a-List-of-Predictions)"
   ]
  },
  {
   "cell_type": "code",
   "execution_count": null,
   "id": "8e24331f",
   "metadata": {},
   "outputs": [],
   "source": [
    "test_mae = mean_absolute_error(y_test,y_pred_wfv)\n",
    "print(\"Test MAE (walk forward validation):\", round(test_mae, 2))"
   ]
  },
  {
   "cell_type": "markdown",
   "id": "46afb03d",
   "metadata": {},
   "source": [
    "# Communicate Results"
   ]
  },
  {
   "cell_type": "markdown",
   "id": "b7ebdc81",
   "metadata": {},
   "source": [
    "**Task 3.3.19:** Print out the parameters for your trained model.\n",
    "\n",
    "- [<span id='technique'>Access model parameters in <span id='tool'>statsmodels](../%40textbook/18-ts-models.ipynb#Communicating-the-Results)"
   ]
  },
  {
   "cell_type": "code",
   "execution_count": null,
   "id": "f05a14fc",
   "metadata": {},
   "outputs": [],
   "source": [
    "print(model.params)"
   ]
  },
  {
   "cell_type": "markdown",
   "id": "3356acd7",
   "metadata": {},
   "source": [
    "**Task 3.3.20:** Put the values for `y_test` and `y_pred_wfv` into the DataFrame `df_pred_test` (don't forget the index). Then plot `df_pred_test` using plotly express.\n",
    "\n",
    "- [<span id='technique'>Create a line plot in <span id='tool'>plotly express.](../%40textbook/07-visualization-pandas.ipynb#Line-Plots)"
   ]
  },
  {
   "cell_type": "code",
   "execution_count": null,
   "id": "cc5c0a92",
   "metadata": {},
   "outputs": [],
   "source": [
    "df_pred_test = {\n",
    "    \"y_test\": y_test,\n",
    "    \"y_prediction\":y_pred_wfv    \n",
    "}"
   ]
  },
  {
   "cell_type": "code",
   "execution_count": null,
   "id": "88a7b3ee",
   "metadata": {},
   "outputs": [],
   "source": [
    "fig = px.line(df_pred_test, labels={\"value\": \"P2\"})\n",
    "fig.show()"
   ]
  },
  {
   "cell_type": "code",
   "execution_count": null,
   "id": "7fa741b8",
   "metadata": {},
   "outputs": [],
   "source": []
  }
 ],
 "metadata": {
  "kernelspec": {
   "display_name": "Python 3 (ipykernel)",
   "language": "python",
   "name": "python3"
  },
  "language_info": {
   "codemirror_mode": {
    "name": "ipython",
    "version": 3
   },
   "file_extension": ".py",
   "mimetype": "text/x-python",
   "name": "python",
   "nbconvert_exporter": "python",
   "pygments_lexer": "ipython3",
   "version": "3.9.7"
  }
 },
 "nbformat": 4,
 "nbformat_minor": 5
}
